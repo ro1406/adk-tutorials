{
 "cells": [
  {
   "cell_type": "code",
   "execution_count": 46,
   "id": "ca752558",
   "metadata": {},
   "outputs": [],
   "source": [
    "import requests\n",
    "import json"
   ]
  },
  {
   "cell_type": "markdown",
   "id": "a88fad69",
   "metadata": {},
   "source": [
    "# Client to test med-agent docker only"
   ]
  },
  {
   "cell_type": "code",
   "execution_count": null,
   "id": "562948c2",
   "metadata": {},
   "outputs": [
    {
     "name": "stdout",
     "output_type": "stream",
     "text": [
      "http://localhost:8000/apps/med-agent/users/user12345/sessions/session12345\n",
      "----------------------------------------------------------------------------------------------------\n",
      "{\n",
      "  \"app_name\": \"med-agent\",\n",
      "  \"user_id\": \"user12345\",\n",
      "  \"session_id\": \"session12345\",\n",
      "  \"new_message\": {\n",
      "    \"role\": \"user\",\n",
      "    \"parts\": [\n",
      "      {\n",
      "        \"text\": \"Hello\"\n",
      "      }\n",
      "    ]\n",
      "  }\n",
      "}\n",
      "----------------------------------------------------------------------------------------------------\n",
      "{'id': 'session12345', 'appName': 'med-agent', 'userId': 'user12345', 'state': {}, 'events': [], 'lastUpdateTime': 1755066506.990657}\n",
      "----------------------------------------------------------------------------------------------------\n",
      "Sending message to agent\n",
      "----------------------------------------------------------------------------------------------------\n",
      "[{'content': {'parts': [{'thoughtSignature': 'CqIDAcu98PCn60IhHUImvxyBa5i4IV-B9iLdz59JiEL0I3Sm3bGGqBN4g5ivqSP_DLRVwPXgVLlamOECQ0-5Ae-2bdr98HnX2Uz7fFGkeG1bc_PmYy3eaPgQX_uUTWxrzEKdwG3yBI09nx6MVgEwqRjNjhNdWNK8BPV-YzK88JLVu0NbBIoFOB70e7MOAz0nprv2kwZ9dr86az1soyK6f1EiVL8W_XmzHTVdNOOXmUH6vpKq0h2MEaVabmpjCErU-TEksjM_goLny3GrINrDxZTVtVjxPg8pBQyeOgMXuwz2H6FcjIw5A8JtvaJ_BWy7Q16hJjrIiCiZPaWCQu6VTL-dX95dnYD_F6VDUG5UwhqABoEg69tV2f_uta0q2tSX3uXKbsroejFq5H994f6xU8pEr7O-7trk8x8eRBhXsElCxEqKYNqMgN6ljj77b1ZvX-6avmPvvc2GdDJ1Kx-YpDLSUCPgHx--WexiC44CJsBaTbzyBXlTf-pEAYUwRGrOywqGoTHowLm_y_33lRs_PVRR_-7POsLCepW3ZzshHkyGtIAoTg==', 'text': \"Hello! I can help you book a doctor's appointment.\\n\\nTo get started, could you please provide your full name and date of birth (YYYY-MM-DD)?\"}], 'role': 'model'}, 'usageMetadata': {'candidatesTokenCount': 36, 'candidatesTokensDetails': [{'modality': 'TEXT', 'tokenCount': 36}], 'promptTokenCount': 1025, 'promptTokensDetails': [{'modality': 'TEXT', 'tokenCount': 1025}], 'thoughtsTokenCount': 75, 'totalTokenCount': 1136, 'trafficType': 'ON_DEMAND'}, 'invocationId': 'e-5426b867-3644-482d-acf7-11a19008bc2f', 'author': 'doctor_appointment_agent', 'actions': {'stateDelta': {}, 'artifactDelta': {}, 'requestedAuthConfigs': {}}, 'id': '8df9fdaf-a4d1-406a-ad26-ad3bbd8021b4', 'timestamp': 1755066507.016384}]\n"
     ]
    }
   ],
   "source": [
    "adk_payload = {\n",
    "    \"app_name\": \"med-agent\",\n",
    "    \"user_id\": \"user12345\",\n",
    "    \"session_id\": \"session12345\",\n",
    "    \"new_message\": {\"role\": \"user\", \"parts\": [{\"text\": \"Hello\"}]},\n",
    "}\n",
    "\n",
    "ADK_API_BASE_URL=\"http://localhost:8000\"\n",
    "\n",
    "print(f\"{ADK_API_BASE_URL}/apps/med-agent/users/{adk_payload['user_id']}/sessions/{adk_payload['session_id']}\")\n",
    "print('-'*100)\n",
    "print(json.dumps(adk_payload, indent=2))\n",
    "print('-'*100)\n",
    "\n",
    "#Create session:\n",
    "response = requests.post(\n",
    "        f\"{ADK_API_BASE_URL}/apps/med-agent/users/{adk_payload['user_id']}/sessions/{adk_payload['session_id']}\",\n",
    "        headers={\"Content-Type\": \"application/json\"},\n",
    "        data=json.dumps({})\n",
    "    )\n",
    "\n",
    "print(response.json())\n",
    "\n",
    "\n",
    "print('-'*100)\n",
    "print('Sending message to agent')\n",
    "print('-'*100)\n",
    "\n",
    "response = requests.post(\n",
    "        f\"{ADK_API_BASE_URL}/run\",\n",
    "        headers={\"Content-Type\": \"application/json\"},\n",
    "        data=json.dumps(adk_payload),\n",
    "    )\n",
    "\n",
    "print(response.json())"
   ]
  },
  {
   "cell_type": "markdown",
   "id": "d94bb643",
   "metadata": {},
   "source": [
    "# Send message to FastAPI Server"
   ]
  },
  {
   "cell_type": "code",
   "execution_count": 6,
   "id": "0b34fe89",
   "metadata": {},
   "outputs": [
    {
     "name": "stdout",
     "output_type": "stream",
     "text": [
      "{'response': 'Of course. I can help with that. To start, could you please '\n",
      "             \"provide the patient's full name and date of birth?\"}\n"
     ]
    }
   ],
   "source": [
    "#Send request to fastapi server running on port 8000\n",
    "\n",
    "import requests\n",
    "import json\n",
    "from pprint import pprint\n",
    "\n",
    "#Send request to fastapi server running on port 8000\n",
    "response = requests.post(\"http://localhost:8000/chat\", json={\n",
    "    'user_id':'user123',\n",
    "    'session_id':'session123',\n",
    "    \"message\": \"Hello, I want to book an appointment with an eye doctor\"})\n",
    "pprint(response.json())"
   ]
  },
  {
   "cell_type": "code",
   "execution_count": null,
   "id": "3b3319cc",
   "metadata": {},
   "outputs": [],
   "source": []
  }
 ],
 "metadata": {
  "kernelspec": {
   "display_name": "smartcreate",
   "language": "python",
   "name": "python3"
  },
  "language_info": {
   "codemirror_mode": {
    "name": "ipython",
    "version": 3
   },
   "file_extension": ".py",
   "mimetype": "text/x-python",
   "name": "python",
   "nbconvert_exporter": "python",
   "pygments_lexer": "ipython3",
   "version": "3.12.9"
  }
 },
 "nbformat": 4,
 "nbformat_minor": 5
}
