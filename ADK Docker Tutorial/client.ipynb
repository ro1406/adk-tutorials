{
 "cells": [
  {
   "cell_type": "code",
   "execution_count": 46,
   "id": "ca752558",
   "metadata": {},
   "outputs": [],
   "source": [
    "import requests\n",
    "import json"
   ]
  },
  {
   "cell_type": "markdown",
   "id": "a88fad69",
   "metadata": {},
   "source": [
    "# Client to test med-agent docker only"
   ]
  },
  {
   "cell_type": "code",
   "execution_count": null,
   "id": "562948c2",
   "metadata": {},
   "outputs": [],
   "source": [
    "adk_payload = {\n",
    "    \"app_name\": \"med-agent\",\n",
    "    \"user_id\": \"user12345\",\n",
    "    \"session_id\": \"session12345\",\n",
    "    \"new_message\": {\"role\": \"user\", \"parts\": [{\"text\": \"Hello\"}]},\n",
    "}\n",
    "\n",
    "ADK_API_BASE_URL=\"http://localhost:8000\"\n",
    "\n",
    "print(f\"{ADK_API_BASE_URL}/apps/med-agent/users/{adk_payload['user_id']}/sessions/{adk_payload['session_id']}\")\n",
    "print('-'*100)\n",
    "print(json.dumps(adk_payload, indent=2))\n",
    "print('-'*100)\n",
    "\n",
    "#Create session:\n",
    "response = requests.post(\n",
    "        f\"{ADK_API_BASE_URL}/apps/med-agent/users/{adk_payload['user_id']}/sessions/{adk_payload['session_id']}\",\n",
    "        headers={\"Content-Type\": \"application/json\"},\n",
    "        data=json.dumps({})\n",
    "    )\n",
    "\n",
    "print(response.json())\n",
    "\n",
    "\n",
    "print('-'*100)\n",
    "print('Sending message to agent')\n",
    "print('-'*100)\n",
    "\n",
    "response = requests.post(\n",
    "        f\"{ADK_API_BASE_URL}/run\",\n",
    "        headers={\"Content-Type\": \"application/json\"},\n",
    "        data=json.dumps(adk_payload),\n",
    "    )\n",
    "\n",
    "print(response.json())"
   ]
  },
  {
   "cell_type": "markdown",
   "id": "d94bb643",
   "metadata": {},
   "source": [
    "# Send message to FastAPI Server"
   ]
  },
  {
   "cell_type": "code",
   "execution_count": 6,
   "id": "0b34fe89",
   "metadata": {},
   "outputs": [
    {
     "name": "stdout",
     "output_type": "stream",
     "text": [
      "{'response': 'Of course. I can help with that. To start, could you please '\n",
      "             \"provide the patient's full name and date of birth?\"}\n"
     ]
    }
   ],
   "source": [
    "#Send request to fastapi server running on port 8000\n",
    "\n",
    "import requests\n",
    "import json\n",
    "from pprint import pprint\n",
    "\n",
    "#Send request to fastapi server running on port 8000\n",
    "response = requests.post(\"http://localhost:8000/chat\", json={\n",
    "    'user_id':'user123',\n",
    "    'session_id':'session123',\n",
    "    \"message\": \"Hello, I want to book an appointment with an eye doctor\"})\n",
    "pprint(response.json())"
   ]
  },
  {
   "cell_type": "code",
   "execution_count": null,
   "id": "3b3319cc",
   "metadata": {},
   "outputs": [],
   "source": []
  }
 ],
 "metadata": {
  "kernelspec": {
   "display_name": "smartcreate",
   "language": "python",
   "name": "python3"
  },
  "language_info": {
   "codemirror_mode": {
    "name": "ipython",
    "version": 3
   },
   "file_extension": ".py",
   "mimetype": "text/x-python",
   "name": "python",
   "nbconvert_exporter": "python",
   "pygments_lexer": "ipython3",
   "version": "3.12.9"
  }
 },
 "nbformat": 4,
 "nbformat_minor": 5
}
